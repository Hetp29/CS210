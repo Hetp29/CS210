{
 "cells": [
  {
   "cell_type": "code",
   "execution_count": 1,
   "metadata": {},
   "outputs": [
    {
     "name": "stdout",
     "output_type": "stream",
     "text": [
      "Dropped columns: ['other_parties', 'other_payment_plans', 'own_telephone']\n"
     ]
    }
   ],
   "source": [
    "import pandas as pd \n",
    "\n",
    "df = pd.read_csv(\"GermanCredit.csv\")\n",
    "\n",
    "#count 'none' values per column \n",
    "none_counts = df.apply(lambda col: col.value_counts().get('none', 0))\n",
    "columns_to_drop = none_counts.nlargest(3).index \n",
    "\n",
    "#drop the columns \n",
    "df = df.drop(columns=columns_to_drop)\n",
    "print(\"Dropped columns:\", columns_to_drop.tolist())"
   ]
  }
 ],
 "metadata": {
  "kernelspec": {
   "display_name": "Python 3",
   "language": "python",
   "name": "python3"
  },
  "language_info": {
   "codemirror_mode": {
    "name": "ipython",
    "version": 3
   },
   "file_extension": ".py",
   "mimetype": "text/x-python",
   "name": "python",
   "nbconvert_exporter": "python",
   "pygments_lexer": "ipython3",
   "version": "3.12.7"
  }
 },
 "nbformat": 4,
 "nbformat_minor": 2
}
