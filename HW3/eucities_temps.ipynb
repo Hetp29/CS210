{
 "cells": [
  {
   "cell_type": "code",
   "execution_count": 1,
   "metadata": {},
   "outputs": [
    {
     "name": "stdout",
     "output_type": "stream",
     "text": [
      "        city  country  latitude  longitude\n",
      "0    Elbasan  Albania     41.12      20.08\n",
      "1    Andorra  Andorra     42.50       1.52\n",
      "2  Innsbruck  Austria     47.85      11.41\n",
      "3       Graz  Austria     47.08        NaN\n",
      "4       Linz  Austria     48.32      14.29\n"
     ]
    }
   ],
   "source": [
    "#Fill missing latitude/longitude with country averages \n",
    "import pandas as pd \n",
    "\n",
    "df = pd.read_csv(\"EuCitiesTemperatures.csv\")\n",
    "\n",
    "#fill missing lat/lon with country averages (rounded to 2 decimals)\n",
    "df['latitude'] = df.groupby('country')['latitude'].transform(lambda x: x.fillna(round(x.mean(), 2)))\n",
    "\n",
    "print(df[['city', 'country', 'latitude', 'longitude']].head())"
   ]
  }
 ],
 "metadata": {
  "kernelspec": {
   "display_name": "Python 3",
   "language": "python",
   "name": "python3"
  },
  "language_info": {
   "codemirror_mode": {
    "name": "ipython",
    "version": 3
   },
   "file_extension": ".py",
   "mimetype": "text/x-python",
   "name": "python",
   "nbconvert_exporter": "python",
   "pygments_lexer": "ipython3",
   "version": "3.12.7"
  }
 },
 "nbformat": 4,
 "nbformat_minor": 2
}
